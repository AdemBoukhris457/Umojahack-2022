{
  "nbformat": 4,
  "nbformat_minor": 0,
  "metadata": {
    "colab": {
      "name": "Untitled80.ipynb",
      "provenance": []
    },
    "kernelspec": {
      "name": "python3",
      "display_name": "Python 3"
    },
    "language_info": {
      "name": "python"
    }
  },
  "cells": [
    {
      "cell_type": "code",
      "source": [
        "!pip install -q hvplot"
      ],
      "metadata": {
        "colab": {
          "base_uri": "https://localhost:8080/"
        },
        "id": "zJSqm775otcx",
        "outputId": "f44d24d2-2e7a-4f2f-b2ae-db34137b48c6"
      },
      "execution_count": null,
      "outputs": [
        {
          "output_type": "stream",
          "name": "stdout",
          "text": [
            "\u001b[K     |████████████████████████████████| 3.1 MB 16.6 MB/s \n",
            "\u001b[?25h"
          ]
        }
      ]
    },
    {
      "cell_type": "code",
      "execution_count": null,
      "metadata": {
        "id": "yJaZyu8_j0Ny"
      },
      "outputs": [],
      "source": [
        "import pandas as pd\n",
        "import numpy as np\n",
        "import matplotlib.pylab as plt\n",
        "import seaborn as sns\n",
        "import xgboost as xgb\n",
        "from time import time\n",
        "import hvplot.pandas\n",
        "\n",
        "from sklearn.metrics import classification_report, confusion_matrix\n",
        "from sklearn.model_selection import train_test_split\n",
        "from sklearn.datasets import load_wine\n",
        "from IPython.core.interactiveshell import InteractiveShell\n",
        "InteractiveShell.ast_node_interactivity = \"all\""
      ]
    },
    {
      "cell_type": "code",
      "source": [
        "import numpy as np\n",
        "import pandas as pd\n",
        "import matplotlib.pyplot as plt\n",
        "import seaborn as sns\n",
        "from sklearn.feature_extraction.text import TfidfVectorizer, CountVectorizer\n",
        "from sklearn.decomposition import TruncatedSVD\n",
        "from sklearn import preprocessing, model_selection, metrics\n",
        "from sklearn.model_selection import train_test_split\n",
        "import lightgbm as lgb\n",
        "import xgboost as xgb\n",
        "#from catboost import CatBoostRegressor\n",
        "\n",
        "from IPython.display import display # Allows the use of display() for DataFrames\n",
        "\n",
        "import warnings\n",
        "warnings.filterwarnings('ignore')"
      ],
      "metadata": {
        "id": "tkpKbrmXmtPH"
      },
      "execution_count": null,
      "outputs": []
    },
    {
      "cell_type": "code",
      "source": [
        "train = pd.read_csv('train.csv', parse_dates = ['Datetime'])\n",
        "test = pd.read_csv('test.csv', parse_dates = ['Datetime'])\n",
        "train = train.drop(columns=['ID'])\n",
        "train['Datetime_day'] = train.Datetime.dt.day\n",
        "\n",
        "# month\n",
        "train['Datetime_month'] = train.Datetime.dt.month\n",
        " \n",
        "# year\n",
        "train['Datetime_year'] = train.Datetime.dt.year\n",
        "\n",
        "# hour\n",
        "train['Datetime_hour'] = train.Datetime.dt.hour\n",
        "train = train.drop(columns=['Datetime'])\n",
        "#train = train.dropna()\n",
        "train = train.fillna(0)\n",
        "X_train = train[[\"Sensor1_PM2.5\",\"Sensor2_PM2.5\",\"Temperature\",\"Relative_Humidity\",\"Datetime_day\",\"Datetime_month\",\"Datetime_year\",\"Datetime_hour\"]]\n",
        "y_train = train[\"Offset_fault\"]\n",
        "from imblearn.over_sampling import SMOTE\n",
        "sm = SMOTE(random_state = 2)\n",
        "X_train_res, y_train_res = sm.fit_resample(X_train, y_train)\n",
        "train = pd.concat([X_train_res, y_train_res], axis=1, join='inner')\n",
        "display(train)"
      ],
      "metadata": {
        "colab": {
          "base_uri": "https://localhost:8080/",
          "height": 423
        },
        "id": "wJNlEr9QlEJY",
        "outputId": "2d6745cb-202b-4d80-cc39-9b41df721513"
      },
      "execution_count": null,
      "outputs": [
        {
          "output_type": "display_data",
          "data": {
            "text/plain": [
              "        Sensor1_PM2.5  Sensor2_PM2.5  Temperature  Relative_Humidity  \\\n",
              "0           52.580000      49.520000         17.4               96.0   \n",
              "1           35.250000      33.400000         25.0               75.0   \n",
              "2           19.180000      23.500000         24.9               75.0   \n",
              "3           19.400000      15.480000         24.9               70.0   \n",
              "4           38.300000      34.770000         20.9               89.0   \n",
              "...               ...            ...          ...                ...   \n",
              "373801      10.825430       7.002539         24.2               85.0   \n",
              "373802      65.391031      51.282577         23.4               71.0   \n",
              "373803      40.596045      34.221132         23.0               89.0   \n",
              "373804      38.561440      33.619528         22.4               86.0   \n",
              "373805      29.541187      25.455201         28.9               61.0   \n",
              "\n",
              "        Datetime_day  Datetime_month  Datetime_year  Datetime_hour  \\\n",
              "0                  3              11           2021              4   \n",
              "1                  8              11           2021             18   \n",
              "2                  7              11           2021              9   \n",
              "3                  1               1           2022             18   \n",
              "4                  5              11           2021             22   \n",
              "...              ...             ...            ...            ...   \n",
              "373801            29              12           2021             10   \n",
              "373802             6               1           2022              9   \n",
              "373803            25              12           2021             17   \n",
              "373804            16              11           2021             20   \n",
              "373805            11              12           2021             10   \n",
              "\n",
              "        Offset_fault  \n",
              "0                  0  \n",
              "1                  0  \n",
              "2                  0  \n",
              "3                  0  \n",
              "4                  0  \n",
              "...              ...  \n",
              "373801             1  \n",
              "373802             1  \n",
              "373803             1  \n",
              "373804             1  \n",
              "373805             1  \n",
              "\n",
              "[373806 rows x 9 columns]"
            ],
            "text/html": [
              "\n",
              "  <div id=\"df-d6a83d31-f7ce-4fb9-b02a-418d199a1964\">\n",
              "    <div class=\"colab-df-container\">\n",
              "      <div>\n",
              "<style scoped>\n",
              "    .dataframe tbody tr th:only-of-type {\n",
              "        vertical-align: middle;\n",
              "    }\n",
              "\n",
              "    .dataframe tbody tr th {\n",
              "        vertical-align: top;\n",
              "    }\n",
              "\n",
              "    .dataframe thead th {\n",
              "        text-align: right;\n",
              "    }\n",
              "</style>\n",
              "<table border=\"1\" class=\"dataframe\">\n",
              "  <thead>\n",
              "    <tr style=\"text-align: right;\">\n",
              "      <th></th>\n",
              "      <th>Sensor1_PM2.5</th>\n",
              "      <th>Sensor2_PM2.5</th>\n",
              "      <th>Temperature</th>\n",
              "      <th>Relative_Humidity</th>\n",
              "      <th>Datetime_day</th>\n",
              "      <th>Datetime_month</th>\n",
              "      <th>Datetime_year</th>\n",
              "      <th>Datetime_hour</th>\n",
              "      <th>Offset_fault</th>\n",
              "    </tr>\n",
              "  </thead>\n",
              "  <tbody>\n",
              "    <tr>\n",
              "      <th>0</th>\n",
              "      <td>52.580000</td>\n",
              "      <td>49.520000</td>\n",
              "      <td>17.4</td>\n",
              "      <td>96.0</td>\n",
              "      <td>3</td>\n",
              "      <td>11</td>\n",
              "      <td>2021</td>\n",
              "      <td>4</td>\n",
              "      <td>0</td>\n",
              "    </tr>\n",
              "    <tr>\n",
              "      <th>1</th>\n",
              "      <td>35.250000</td>\n",
              "      <td>33.400000</td>\n",
              "      <td>25.0</td>\n",
              "      <td>75.0</td>\n",
              "      <td>8</td>\n",
              "      <td>11</td>\n",
              "      <td>2021</td>\n",
              "      <td>18</td>\n",
              "      <td>0</td>\n",
              "    </tr>\n",
              "    <tr>\n",
              "      <th>2</th>\n",
              "      <td>19.180000</td>\n",
              "      <td>23.500000</td>\n",
              "      <td>24.9</td>\n",
              "      <td>75.0</td>\n",
              "      <td>7</td>\n",
              "      <td>11</td>\n",
              "      <td>2021</td>\n",
              "      <td>9</td>\n",
              "      <td>0</td>\n",
              "    </tr>\n",
              "    <tr>\n",
              "      <th>3</th>\n",
              "      <td>19.400000</td>\n",
              "      <td>15.480000</td>\n",
              "      <td>24.9</td>\n",
              "      <td>70.0</td>\n",
              "      <td>1</td>\n",
              "      <td>1</td>\n",
              "      <td>2022</td>\n",
              "      <td>18</td>\n",
              "      <td>0</td>\n",
              "    </tr>\n",
              "    <tr>\n",
              "      <th>4</th>\n",
              "      <td>38.300000</td>\n",
              "      <td>34.770000</td>\n",
              "      <td>20.9</td>\n",
              "      <td>89.0</td>\n",
              "      <td>5</td>\n",
              "      <td>11</td>\n",
              "      <td>2021</td>\n",
              "      <td>22</td>\n",
              "      <td>0</td>\n",
              "    </tr>\n",
              "    <tr>\n",
              "      <th>...</th>\n",
              "      <td>...</td>\n",
              "      <td>...</td>\n",
              "      <td>...</td>\n",
              "      <td>...</td>\n",
              "      <td>...</td>\n",
              "      <td>...</td>\n",
              "      <td>...</td>\n",
              "      <td>...</td>\n",
              "      <td>...</td>\n",
              "    </tr>\n",
              "    <tr>\n",
              "      <th>373801</th>\n",
              "      <td>10.825430</td>\n",
              "      <td>7.002539</td>\n",
              "      <td>24.2</td>\n",
              "      <td>85.0</td>\n",
              "      <td>29</td>\n",
              "      <td>12</td>\n",
              "      <td>2021</td>\n",
              "      <td>10</td>\n",
              "      <td>1</td>\n",
              "    </tr>\n",
              "    <tr>\n",
              "      <th>373802</th>\n",
              "      <td>65.391031</td>\n",
              "      <td>51.282577</td>\n",
              "      <td>23.4</td>\n",
              "      <td>71.0</td>\n",
              "      <td>6</td>\n",
              "      <td>1</td>\n",
              "      <td>2022</td>\n",
              "      <td>9</td>\n",
              "      <td>1</td>\n",
              "    </tr>\n",
              "    <tr>\n",
              "      <th>373803</th>\n",
              "      <td>40.596045</td>\n",
              "      <td>34.221132</td>\n",
              "      <td>23.0</td>\n",
              "      <td>89.0</td>\n",
              "      <td>25</td>\n",
              "      <td>12</td>\n",
              "      <td>2021</td>\n",
              "      <td>17</td>\n",
              "      <td>1</td>\n",
              "    </tr>\n",
              "    <tr>\n",
              "      <th>373804</th>\n",
              "      <td>38.561440</td>\n",
              "      <td>33.619528</td>\n",
              "      <td>22.4</td>\n",
              "      <td>86.0</td>\n",
              "      <td>16</td>\n",
              "      <td>11</td>\n",
              "      <td>2021</td>\n",
              "      <td>20</td>\n",
              "      <td>1</td>\n",
              "    </tr>\n",
              "    <tr>\n",
              "      <th>373805</th>\n",
              "      <td>29.541187</td>\n",
              "      <td>25.455201</td>\n",
              "      <td>28.9</td>\n",
              "      <td>61.0</td>\n",
              "      <td>11</td>\n",
              "      <td>12</td>\n",
              "      <td>2021</td>\n",
              "      <td>10</td>\n",
              "      <td>1</td>\n",
              "    </tr>\n",
              "  </tbody>\n",
              "</table>\n",
              "<p>373806 rows × 9 columns</p>\n",
              "</div>\n",
              "      <button class=\"colab-df-convert\" onclick=\"convertToInteractive('df-d6a83d31-f7ce-4fb9-b02a-418d199a1964')\"\n",
              "              title=\"Convert this dataframe to an interactive table.\"\n",
              "              style=\"display:none;\">\n",
              "        \n",
              "  <svg xmlns=\"http://www.w3.org/2000/svg\" height=\"24px\"viewBox=\"0 0 24 24\"\n",
              "       width=\"24px\">\n",
              "    <path d=\"M0 0h24v24H0V0z\" fill=\"none\"/>\n",
              "    <path d=\"M18.56 5.44l.94 2.06.94-2.06 2.06-.94-2.06-.94-.94-2.06-.94 2.06-2.06.94zm-11 1L8.5 8.5l.94-2.06 2.06-.94-2.06-.94L8.5 2.5l-.94 2.06-2.06.94zm10 10l.94 2.06.94-2.06 2.06-.94-2.06-.94-.94-2.06-.94 2.06-2.06.94z\"/><path d=\"M17.41 7.96l-1.37-1.37c-.4-.4-.92-.59-1.43-.59-.52 0-1.04.2-1.43.59L10.3 9.45l-7.72 7.72c-.78.78-.78 2.05 0 2.83L4 21.41c.39.39.9.59 1.41.59.51 0 1.02-.2 1.41-.59l7.78-7.78 2.81-2.81c.8-.78.8-2.07 0-2.86zM5.41 20L4 18.59l7.72-7.72 1.47 1.35L5.41 20z\"/>\n",
              "  </svg>\n",
              "      </button>\n",
              "      \n",
              "  <style>\n",
              "    .colab-df-container {\n",
              "      display:flex;\n",
              "      flex-wrap:wrap;\n",
              "      gap: 12px;\n",
              "    }\n",
              "\n",
              "    .colab-df-convert {\n",
              "      background-color: #E8F0FE;\n",
              "      border: none;\n",
              "      border-radius: 50%;\n",
              "      cursor: pointer;\n",
              "      display: none;\n",
              "      fill: #1967D2;\n",
              "      height: 32px;\n",
              "      padding: 0 0 0 0;\n",
              "      width: 32px;\n",
              "    }\n",
              "\n",
              "    .colab-df-convert:hover {\n",
              "      background-color: #E2EBFA;\n",
              "      box-shadow: 0px 1px 2px rgba(60, 64, 67, 0.3), 0px 1px 3px 1px rgba(60, 64, 67, 0.15);\n",
              "      fill: #174EA6;\n",
              "    }\n",
              "\n",
              "    [theme=dark] .colab-df-convert {\n",
              "      background-color: #3B4455;\n",
              "      fill: #D2E3FC;\n",
              "    }\n",
              "\n",
              "    [theme=dark] .colab-df-convert:hover {\n",
              "      background-color: #434B5C;\n",
              "      box-shadow: 0px 1px 3px 1px rgba(0, 0, 0, 0.15);\n",
              "      filter: drop-shadow(0px 1px 2px rgba(0, 0, 0, 0.3));\n",
              "      fill: #FFFFFF;\n",
              "    }\n",
              "  </style>\n",
              "\n",
              "      <script>\n",
              "        const buttonEl =\n",
              "          document.querySelector('#df-d6a83d31-f7ce-4fb9-b02a-418d199a1964 button.colab-df-convert');\n",
              "        buttonEl.style.display =\n",
              "          google.colab.kernel.accessAllowed ? 'block' : 'none';\n",
              "\n",
              "        async function convertToInteractive(key) {\n",
              "          const element = document.querySelector('#df-d6a83d31-f7ce-4fb9-b02a-418d199a1964');\n",
              "          const dataTable =\n",
              "            await google.colab.kernel.invokeFunction('convertToInteractive',\n",
              "                                                     [key], {});\n",
              "          if (!dataTable) return;\n",
              "\n",
              "          const docLinkHtml = 'Like what you see? Visit the ' +\n",
              "            '<a target=\"_blank\" href=https://colab.research.google.com/notebooks/data_table.ipynb>data table notebook</a>'\n",
              "            + ' to learn more about interactive tables.';\n",
              "          element.innerHTML = '';\n",
              "          dataTable['output_type'] = 'display_data';\n",
              "          await google.colab.output.renderOutput(dataTable, element);\n",
              "          const docLink = document.createElement('div');\n",
              "          docLink.innerHTML = docLinkHtml;\n",
              "          element.appendChild(docLink);\n",
              "        }\n",
              "      </script>\n",
              "    </div>\n",
              "  </div>\n",
              "  "
            ]
          },
          "metadata": {}
        }
      ]
    },
    {
      "cell_type": "code",
      "source": [
        "test['Datetime_day'] = test.Datetime.dt.day\n",
        "test['Datetime_month'] = test.Datetime.dt.month\n",
        "test['Datetime_year'] = test.Datetime.dt.year\n",
        "test['Datetime_hour'] = test.Datetime.dt.hour\n",
        "\n",
        "\n",
        "train_feats = ['Sensor1_PM2.5',\t'Sensor2_PM2.5',\t'Temperature',\t'Relative_Humidity',\t'Datetime_day','Datetime_month',\t'Datetime_year', 'Datetime_hour']\n",
        "\n",
        "\n",
        "test_df = test[['Sensor1_PM2.5',\t'Sensor2_PM2.5',\t'Temperature',\t'Relative_Humidity',\t'Datetime_day','Datetime_month',\t'Datetime_year', 'Datetime_hour']]\n",
        "\n",
        "#test_df = test_df.dropna()\n",
        "\n",
        "\"\"\"test_df = test_df.apply(pd.to_numeric, errors='coerce')\n",
        "# Take Mean\n",
        "test_df  = test_df.fillna(test_df .mean())\"\"\"\n",
        "\n",
        "test_df = test_df.fillna(0)"
      ],
      "metadata": {
        "colab": {
          "base_uri": "https://localhost:8080/",
          "height": 35
        },
        "id": "41zBJRLJla0Q",
        "outputId": "5a411ea3-49b8-4a7a-fa15-e8fe8842f096"
      },
      "execution_count": null,
      "outputs": [
        {
          "output_type": "execute_result",
          "data": {
            "text/plain": [
              "\"test_df = test_df.apply(pd.to_numeric, errors='coerce')\\n# Take Mean\\ntest_df  = test_df.fillna(test_df .mean())\""
            ],
            "application/vnd.google.colaboratory.intrinsic+json": {
              "type": "string"
            }
          },
          "metadata": {},
          "execution_count": 136
        }
      ]
    },
    {
      "cell_type": "code",
      "source": [
        "test_df"
      ],
      "metadata": {
        "colab": {
          "base_uri": "https://localhost:8080/",
          "height": 423
        },
        "id": "nW-ndQpNl3jb",
        "outputId": "ea876e71-32fc-49e7-dd35-d589cccfa126"
      },
      "execution_count": null,
      "outputs": [
        {
          "output_type": "execute_result",
          "data": {
            "text/plain": [
              "        Sensor1_PM2.5  Sensor2_PM2.5  Temperature  Relative_Humidity  \\\n",
              "0               90.75         114.78         22.2               56.0   \n",
              "1               56.03          52.18          0.0                0.0   \n",
              "2              387.35         346.73         28.1               63.0   \n",
              "3               63.17          83.85         21.6               82.0   \n",
              "4               69.23          53.07         22.7               80.0   \n",
              "...               ...            ...          ...                ...   \n",
              "127356          33.65          42.23          0.0                0.0   \n",
              "127357          21.23          15.72          0.0                0.0   \n",
              "127358          41.45          47.25          0.0                0.0   \n",
              "127359          28.60          27.27          0.0                0.0   \n",
              "127360          41.87          39.82          0.0                0.0   \n",
              "\n",
              "        Datetime_day  Datetime_month  Datetime_year  Datetime_hour  \n",
              "0                 28               1           2022              8  \n",
              "1                 16               2           2022             21  \n",
              "2                 24               1           2022             17  \n",
              "3                 31               1           2022              7  \n",
              "4                 31               1           2022              0  \n",
              "...              ...             ...            ...            ...  \n",
              "127356            13               2           2022              0  \n",
              "127357             9               3           2022             16  \n",
              "127358            18               2           2022             14  \n",
              "127359            11               3           2022             19  \n",
              "127360            11               3           2022              1  \n",
              "\n",
              "[127361 rows x 8 columns]"
            ],
            "text/html": [
              "\n",
              "  <div id=\"df-5d562f04-7240-420e-85b6-72424205c9a3\">\n",
              "    <div class=\"colab-df-container\">\n",
              "      <div>\n",
              "<style scoped>\n",
              "    .dataframe tbody tr th:only-of-type {\n",
              "        vertical-align: middle;\n",
              "    }\n",
              "\n",
              "    .dataframe tbody tr th {\n",
              "        vertical-align: top;\n",
              "    }\n",
              "\n",
              "    .dataframe thead th {\n",
              "        text-align: right;\n",
              "    }\n",
              "</style>\n",
              "<table border=\"1\" class=\"dataframe\">\n",
              "  <thead>\n",
              "    <tr style=\"text-align: right;\">\n",
              "      <th></th>\n",
              "      <th>Sensor1_PM2.5</th>\n",
              "      <th>Sensor2_PM2.5</th>\n",
              "      <th>Temperature</th>\n",
              "      <th>Relative_Humidity</th>\n",
              "      <th>Datetime_day</th>\n",
              "      <th>Datetime_month</th>\n",
              "      <th>Datetime_year</th>\n",
              "      <th>Datetime_hour</th>\n",
              "    </tr>\n",
              "  </thead>\n",
              "  <tbody>\n",
              "    <tr>\n",
              "      <th>0</th>\n",
              "      <td>90.75</td>\n",
              "      <td>114.78</td>\n",
              "      <td>22.2</td>\n",
              "      <td>56.0</td>\n",
              "      <td>28</td>\n",
              "      <td>1</td>\n",
              "      <td>2022</td>\n",
              "      <td>8</td>\n",
              "    </tr>\n",
              "    <tr>\n",
              "      <th>1</th>\n",
              "      <td>56.03</td>\n",
              "      <td>52.18</td>\n",
              "      <td>0.0</td>\n",
              "      <td>0.0</td>\n",
              "      <td>16</td>\n",
              "      <td>2</td>\n",
              "      <td>2022</td>\n",
              "      <td>21</td>\n",
              "    </tr>\n",
              "    <tr>\n",
              "      <th>2</th>\n",
              "      <td>387.35</td>\n",
              "      <td>346.73</td>\n",
              "      <td>28.1</td>\n",
              "      <td>63.0</td>\n",
              "      <td>24</td>\n",
              "      <td>1</td>\n",
              "      <td>2022</td>\n",
              "      <td>17</td>\n",
              "    </tr>\n",
              "    <tr>\n",
              "      <th>3</th>\n",
              "      <td>63.17</td>\n",
              "      <td>83.85</td>\n",
              "      <td>21.6</td>\n",
              "      <td>82.0</td>\n",
              "      <td>31</td>\n",
              "      <td>1</td>\n",
              "      <td>2022</td>\n",
              "      <td>7</td>\n",
              "    </tr>\n",
              "    <tr>\n",
              "      <th>4</th>\n",
              "      <td>69.23</td>\n",
              "      <td>53.07</td>\n",
              "      <td>22.7</td>\n",
              "      <td>80.0</td>\n",
              "      <td>31</td>\n",
              "      <td>1</td>\n",
              "      <td>2022</td>\n",
              "      <td>0</td>\n",
              "    </tr>\n",
              "    <tr>\n",
              "      <th>...</th>\n",
              "      <td>...</td>\n",
              "      <td>...</td>\n",
              "      <td>...</td>\n",
              "      <td>...</td>\n",
              "      <td>...</td>\n",
              "      <td>...</td>\n",
              "      <td>...</td>\n",
              "      <td>...</td>\n",
              "    </tr>\n",
              "    <tr>\n",
              "      <th>127356</th>\n",
              "      <td>33.65</td>\n",
              "      <td>42.23</td>\n",
              "      <td>0.0</td>\n",
              "      <td>0.0</td>\n",
              "      <td>13</td>\n",
              "      <td>2</td>\n",
              "      <td>2022</td>\n",
              "      <td>0</td>\n",
              "    </tr>\n",
              "    <tr>\n",
              "      <th>127357</th>\n",
              "      <td>21.23</td>\n",
              "      <td>15.72</td>\n",
              "      <td>0.0</td>\n",
              "      <td>0.0</td>\n",
              "      <td>9</td>\n",
              "      <td>3</td>\n",
              "      <td>2022</td>\n",
              "      <td>16</td>\n",
              "    </tr>\n",
              "    <tr>\n",
              "      <th>127358</th>\n",
              "      <td>41.45</td>\n",
              "      <td>47.25</td>\n",
              "      <td>0.0</td>\n",
              "      <td>0.0</td>\n",
              "      <td>18</td>\n",
              "      <td>2</td>\n",
              "      <td>2022</td>\n",
              "      <td>14</td>\n",
              "    </tr>\n",
              "    <tr>\n",
              "      <th>127359</th>\n",
              "      <td>28.60</td>\n",
              "      <td>27.27</td>\n",
              "      <td>0.0</td>\n",
              "      <td>0.0</td>\n",
              "      <td>11</td>\n",
              "      <td>3</td>\n",
              "      <td>2022</td>\n",
              "      <td>19</td>\n",
              "    </tr>\n",
              "    <tr>\n",
              "      <th>127360</th>\n",
              "      <td>41.87</td>\n",
              "      <td>39.82</td>\n",
              "      <td>0.0</td>\n",
              "      <td>0.0</td>\n",
              "      <td>11</td>\n",
              "      <td>3</td>\n",
              "      <td>2022</td>\n",
              "      <td>1</td>\n",
              "    </tr>\n",
              "  </tbody>\n",
              "</table>\n",
              "<p>127361 rows × 8 columns</p>\n",
              "</div>\n",
              "      <button class=\"colab-df-convert\" onclick=\"convertToInteractive('df-5d562f04-7240-420e-85b6-72424205c9a3')\"\n",
              "              title=\"Convert this dataframe to an interactive table.\"\n",
              "              style=\"display:none;\">\n",
              "        \n",
              "  <svg xmlns=\"http://www.w3.org/2000/svg\" height=\"24px\"viewBox=\"0 0 24 24\"\n",
              "       width=\"24px\">\n",
              "    <path d=\"M0 0h24v24H0V0z\" fill=\"none\"/>\n",
              "    <path d=\"M18.56 5.44l.94 2.06.94-2.06 2.06-.94-2.06-.94-.94-2.06-.94 2.06-2.06.94zm-11 1L8.5 8.5l.94-2.06 2.06-.94-2.06-.94L8.5 2.5l-.94 2.06-2.06.94zm10 10l.94 2.06.94-2.06 2.06-.94-2.06-.94-.94-2.06-.94 2.06-2.06.94z\"/><path d=\"M17.41 7.96l-1.37-1.37c-.4-.4-.92-.59-1.43-.59-.52 0-1.04.2-1.43.59L10.3 9.45l-7.72 7.72c-.78.78-.78 2.05 0 2.83L4 21.41c.39.39.9.59 1.41.59.51 0 1.02-.2 1.41-.59l7.78-7.78 2.81-2.81c.8-.78.8-2.07 0-2.86zM5.41 20L4 18.59l7.72-7.72 1.47 1.35L5.41 20z\"/>\n",
              "  </svg>\n",
              "      </button>\n",
              "      \n",
              "  <style>\n",
              "    .colab-df-container {\n",
              "      display:flex;\n",
              "      flex-wrap:wrap;\n",
              "      gap: 12px;\n",
              "    }\n",
              "\n",
              "    .colab-df-convert {\n",
              "      background-color: #E8F0FE;\n",
              "      border: none;\n",
              "      border-radius: 50%;\n",
              "      cursor: pointer;\n",
              "      display: none;\n",
              "      fill: #1967D2;\n",
              "      height: 32px;\n",
              "      padding: 0 0 0 0;\n",
              "      width: 32px;\n",
              "    }\n",
              "\n",
              "    .colab-df-convert:hover {\n",
              "      background-color: #E2EBFA;\n",
              "      box-shadow: 0px 1px 2px rgba(60, 64, 67, 0.3), 0px 1px 3px 1px rgba(60, 64, 67, 0.15);\n",
              "      fill: #174EA6;\n",
              "    }\n",
              "\n",
              "    [theme=dark] .colab-df-convert {\n",
              "      background-color: #3B4455;\n",
              "      fill: #D2E3FC;\n",
              "    }\n",
              "\n",
              "    [theme=dark] .colab-df-convert:hover {\n",
              "      background-color: #434B5C;\n",
              "      box-shadow: 0px 1px 3px 1px rgba(0, 0, 0, 0.15);\n",
              "      filter: drop-shadow(0px 1px 2px rgba(0, 0, 0, 0.3));\n",
              "      fill: #FFFFFF;\n",
              "    }\n",
              "  </style>\n",
              "\n",
              "      <script>\n",
              "        const buttonEl =\n",
              "          document.querySelector('#df-5d562f04-7240-420e-85b6-72424205c9a3 button.colab-df-convert');\n",
              "        buttonEl.style.display =\n",
              "          google.colab.kernel.accessAllowed ? 'block' : 'none';\n",
              "\n",
              "        async function convertToInteractive(key) {\n",
              "          const element = document.querySelector('#df-5d562f04-7240-420e-85b6-72424205c9a3');\n",
              "          const dataTable =\n",
              "            await google.colab.kernel.invokeFunction('convertToInteractive',\n",
              "                                                     [key], {});\n",
              "          if (!dataTable) return;\n",
              "\n",
              "          const docLinkHtml = 'Like what you see? Visit the ' +\n",
              "            '<a target=\"_blank\" href=https://colab.research.google.com/notebooks/data_table.ipynb>data table notebook</a>'\n",
              "            + ' to learn more about interactive tables.';\n",
              "          element.innerHTML = '';\n",
              "          dataTable['output_type'] = 'display_data';\n",
              "          await google.colab.output.renderOutput(dataTable, element);\n",
              "          const docLink = document.createElement('div');\n",
              "          docLink.innerHTML = docLinkHtml;\n",
              "          element.appendChild(docLink);\n",
              "        }\n",
              "      </script>\n",
              "    </div>\n",
              "  </div>\n",
              "  "
            ]
          },
          "metadata": {},
          "execution_count": 137
        }
      ]
    },
    {
      "cell_type": "code",
      "source": [
        "X = train.iloc[:, :-1].values    #   X -> Feature Variables\n",
        "y = train.iloc[:, -1].values"
      ],
      "metadata": {
        "id": "w6OertZXmKc3"
      },
      "execution_count": null,
      "outputs": []
    },
    {
      "cell_type": "code",
      "source": [
        "X_train, X_test, y_train, y_test = train_test_split(X, y, test_size = 0.3, random_state = 0)"
      ],
      "metadata": {
        "id": "CTemTqUFmN26"
      },
      "execution_count": null,
      "outputs": []
    },
    {
      "cell_type": "code",
      "source": [
        "\"\"\"pip install catboost\"\"\""
      ],
      "metadata": {
        "colab": {
          "base_uri": "https://localhost:8080/",
          "height": 35
        },
        "id": "9SgXxPODyQkk",
        "outputId": "042084e0-90dd-45bc-9c9d-6d8383510e95"
      },
      "execution_count": null,
      "outputs": [
        {
          "output_type": "execute_result",
          "data": {
            "text/plain": [
              "'pip install catboost'"
            ],
            "application/vnd.google.colaboratory.intrinsic+json": {
              "type": "string"
            }
          },
          "metadata": {},
          "execution_count": 78
        }
      ]
    },
    {
      "cell_type": "code",
      "source": [
        "\"\"\"X = train.drop('Offset_fault',axis=1)\"\"\""
      ],
      "metadata": {
        "colab": {
          "base_uri": "https://localhost:8080/",
          "height": 35
        },
        "id": "pihB7fb0z608",
        "outputId": "5f0f705a-c32e-4d0b-b52f-55b718ff2ebb"
      },
      "execution_count": null,
      "outputs": [
        {
          "output_type": "execute_result",
          "data": {
            "text/plain": [
              "\"X = train.drop('Offset_fault',axis=1)\""
            ],
            "application/vnd.google.colaboratory.intrinsic+json": {
              "type": "string"
            }
          },
          "metadata": {},
          "execution_count": 79
        }
      ]
    },
    {
      "cell_type": "code",
      "source": [
        "#X = train.iloc[:, :-1]\n",
        "\"\"\"cate_features_index = np.where(X.dtypes != float)[0]\"\"\""
      ],
      "metadata": {
        "colab": {
          "base_uri": "https://localhost:8080/",
          "height": 35
        },
        "id": "1CwS4BIoyzM8",
        "outputId": "c8ae7cc5-ff5e-47a2-f576-1cccd16d78b2"
      },
      "execution_count": null,
      "outputs": [
        {
          "output_type": "execute_result",
          "data": {
            "text/plain": [
              "'cate_features_index = np.where(X.dtypes != float)[0]'"
            ],
            "application/vnd.google.colaboratory.intrinsic+json": {
              "type": "string"
            }
          },
          "metadata": {},
          "execution_count": 80
        }
      ]
    },
    {
      "cell_type": "code",
      "source": [
        "\"\"\"cate_features_index\"\"\""
      ],
      "metadata": {
        "colab": {
          "base_uri": "https://localhost:8080/",
          "height": 35
        },
        "id": "rTJGN_bOzQT2",
        "outputId": "da3d0c56-3fdc-4d23-8d0a-531b6772644b"
      },
      "execution_count": null,
      "outputs": [
        {
          "output_type": "execute_result",
          "data": {
            "text/plain": [
              "'cate_features_index'"
            ],
            "application/vnd.google.colaboratory.intrinsic+json": {
              "type": "string"
            }
          },
          "metadata": {},
          "execution_count": 81
        }
      ]
    },
    {
      "cell_type": "code",
      "source": [
        "\"\"\"from catboost import Pool, CatBoostClassifier, cv, CatBoostRegressor\"\"\""
      ],
      "metadata": {
        "colab": {
          "base_uri": "https://localhost:8080/",
          "height": 35
        },
        "id": "i6LqHFTZyNnq",
        "outputId": "d21475f1-fa36-4ba0-8c7c-e560f0edb087"
      },
      "execution_count": null,
      "outputs": [
        {
          "output_type": "execute_result",
          "data": {
            "text/plain": [
              "'from catboost import Pool, CatBoostClassifier, cv, CatBoostRegressor'"
            ],
            "application/vnd.google.colaboratory.intrinsic+json": {
              "type": "string"
            }
          },
          "metadata": {},
          "execution_count": 82
        }
      ]
    },
    {
      "cell_type": "code",
      "source": [
        "\"\"\"model = CatBoostClassifier(eval_metric='Accuracy',use_best_model=True,random_seed=42)\"\"\""
      ],
      "metadata": {
        "colab": {
          "base_uri": "https://localhost:8080/",
          "height": 35
        },
        "id": "ykvBbIelolZK",
        "outputId": "3c182cfe-2ee4-4980-a465-be96e29b5010"
      },
      "execution_count": null,
      "outputs": [
        {
          "output_type": "execute_result",
          "data": {
            "text/plain": [
              "\"model = CatBoostClassifier(eval_metric='Accuracy',use_best_model=True,random_seed=42)\""
            ],
            "application/vnd.google.colaboratory.intrinsic+json": {
              "type": "string"
            }
          },
          "metadata": {},
          "execution_count": 83
        }
      ]
    },
    {
      "cell_type": "code",
      "source": [
        "\"\"\"X.dtypes\"\"\""
      ],
      "metadata": {
        "colab": {
          "base_uri": "https://localhost:8080/",
          "height": 35
        },
        "id": "-tmdSXP-0aEb",
        "outputId": "73778499-a199-4bb6-87e1-43e9acc927ea"
      },
      "execution_count": null,
      "outputs": [
        {
          "output_type": "execute_result",
          "data": {
            "text/plain": [
              "'X.dtypes'"
            ],
            "application/vnd.google.colaboratory.intrinsic+json": {
              "type": "string"
            }
          },
          "metadata": {},
          "execution_count": 84
        }
      ]
    },
    {
      "cell_type": "code",
      "source": [
        "\"\"\"model.fit(X_train,y_train,eval_set=(X_test,y_test))\"\"\""
      ],
      "metadata": {
        "colab": {
          "base_uri": "https://localhost:8080/",
          "height": 35
        },
        "id": "5E01yxW-pVTI",
        "outputId": "0fd6c25c-c937-4b0e-d622-9a1240f344e3"
      },
      "execution_count": null,
      "outputs": [
        {
          "output_type": "execute_result",
          "data": {
            "text/plain": [
              "'model.fit(X_train,y_train,eval_set=(X_test,y_test))'"
            ],
            "application/vnd.google.colaboratory.intrinsic+json": {
              "type": "string"
            }
          },
          "metadata": {},
          "execution_count": 85
        }
      ]
    },
    {
      "cell_type": "code",
      "source": [
        "def learning_rate_010_decay_power_099(current_iter):\n",
        "    base_learning_rate = 0.1\n",
        "    lr = base_learning_rate  * np.power(.99, current_iter)\n",
        "    return lr if lr > 1e-3 else 1e-3\n",
        "\n",
        "def learning_rate_010_decay_power_0995(current_iter):\n",
        "    base_learning_rate = 0.1\n",
        "    lr = base_learning_rate  * np.power(.995, current_iter)\n",
        "    return lr if lr > 1e-3 else 1e-3\n",
        "\n",
        "def learning_rate_005_decay_power_099(current_iter):\n",
        "    base_learning_rate = 0.05\n",
        "    lr = base_learning_rate  * np.power(.99, current_iter)\n",
        "    return lr if lr > 1e-3 else 1e-3"
      ],
      "metadata": {
        "id": "b-WoyqwL5Whb"
      },
      "execution_count": null,
      "outputs": []
    },
    {
      "cell_type": "code",
      "source": [
        "import lightgbm as lgb\n",
        "fit_params={\"early_stopping_rounds\":30, \n",
        "            \"eval_metric\" : 'auc', \n",
        "            \"eval_set\" : [(X_test,y_test)],\n",
        "            'eval_names': ['valid'],\n",
        "            #'callbacks': [lgb.reset_parameter(learning_rate=learning_rate_010_decay_power_099)],\n",
        "            'verbose': 100,\n",
        "            'categorical_feature': 'auto'}"
      ],
      "metadata": {
        "id": "nA1RNeMY5Wj5"
      },
      "execution_count": null,
      "outputs": []
    },
    {
      "cell_type": "code",
      "source": [
        "from scipy.stats import randint as sp_randint\n",
        "from scipy.stats import uniform as sp_uniform\n",
        "param_test ={'num_leaves': sp_randint(6, 50), \n",
        "             'min_child_samples': sp_randint(100, 500), \n",
        "             'min_child_weight': [1e-5, 1e-3, 1e-2, 1e-1, 1, 1e1, 1e2, 1e3, 1e4],\n",
        "             'subsample': sp_uniform(loc=0.2, scale=0.8), \n",
        "             'colsample_bytree': sp_uniform(loc=0.4, scale=0.6),\n",
        "             'reg_alpha': [0, 1e-1, 1, 2, 5, 7, 10, 50, 100],\n",
        "             'reg_lambda': [0, 1e-1, 1, 5, 10, 20, 50, 100]}"
      ],
      "metadata": {
        "id": "8X62mOuh5WmR"
      },
      "execution_count": null,
      "outputs": []
    },
    {
      "cell_type": "code",
      "source": [
        "n_HP_points_to_test = 100\n",
        "\n",
        "import lightgbm as lgb\n",
        "from sklearn.model_selection import RandomizedSearchCV, GridSearchCV\n",
        "\n",
        "#n_estimators is set to a \"large value\". The actual number of trees build will depend on early stopping and 5000 define only the absolute maximum\n",
        "clf = lgb.LGBMClassifier(max_depth=-1, random_state=314, silent=True, metric='None', n_jobs=4, n_estimators=1000)\n",
        "gs = RandomizedSearchCV(\n",
        "    estimator=clf, param_distributions=param_test, \n",
        "    n_iter=n_HP_points_to_test,\n",
        "    scoring='roc_auc',\n",
        "    cv=3,\n",
        "    refit=True,\n",
        "    random_state=314,\n",
        "    verbose=True)"
      ],
      "metadata": {
        "id": "eigDtFuz5Wor"
      },
      "execution_count": null,
      "outputs": []
    },
    {
      "cell_type": "code",
      "source": [
        "opt_parameters = {'colsample_bytree': 0.9234, 'min_child_samples': 399, 'min_child_weight': 0.1, 'num_leaves': 13, 'reg_alpha': 2, 'reg_lambda': 5, 'subsample': 0.855}"
      ],
      "metadata": {
        "id": "TKHYkILi5WrL"
      },
      "execution_count": null,
      "outputs": []
    },
    {
      "cell_type": "code",
      "source": [
        "clf_sw = lgb.LGBMClassifier(**clf.get_params())\n",
        "#set optimal parameters\n",
        "clf_sw.set_params(**opt_parameters)"
      ],
      "metadata": {
        "colab": {
          "base_uri": "https://localhost:8080/"
        },
        "id": "gDE0GZ6l5Wtg",
        "outputId": "88346a9d-c3b9-4353-bec0-b23ff15c6c70"
      },
      "execution_count": null,
      "outputs": [
        {
          "output_type": "execute_result",
          "data": {
            "text/plain": [
              "LGBMClassifier(colsample_bytree=0.9234, metric='None', min_child_samples=399,\n",
              "               min_child_weight=0.1, n_estimators=1000, n_jobs=4, num_leaves=13,\n",
              "               random_state=314, reg_alpha=2, reg_lambda=5, subsample=0.855)"
            ]
          },
          "metadata": {},
          "execution_count": 97
        }
      ]
    },
    {
      "cell_type": "code",
      "source": [
        "gs_sample_weight = GridSearchCV(estimator=clf_sw, \n",
        "                                param_grid={'scale_pos_weight':[1,2,6,12]},\n",
        "                                scoring='roc_auc',\n",
        "                                cv=5,\n",
        "                                refit=True,\n",
        "                                verbose=True)"
      ],
      "metadata": {
        "id": "55U9T2qN5Wv_"
      },
      "execution_count": null,
      "outputs": []
    },
    {
      "cell_type": "code",
      "source": [
        "gs_sample_weight.fit(X_train, y_train, **fit_params)\n",
        "print('Best score reached: {} with params: {} '.format(gs_sample_weight.best_score_, gs_sample_weight.best_params_))"
      ],
      "metadata": {
        "colab": {
          "base_uri": "https://localhost:8080/"
        },
        "id": "DXVcrAli5WyW",
        "outputId": "47e5ab5e-a4a6-4aca-df7e-63ccb83d0456"
      },
      "execution_count": null,
      "outputs": [
        {
          "output_type": "stream",
          "name": "stdout",
          "text": [
            "Fitting 5 folds for each of 4 candidates, totalling 20 fits\n",
            "Training until validation scores don't improve for 30 rounds.\n",
            "[100]\tvalid's auc: 0.982077\n",
            "[200]\tvalid's auc: 0.985776\n",
            "[300]\tvalid's auc: 0.98743\n",
            "[400]\tvalid's auc: 0.988581\n",
            "[500]\tvalid's auc: 0.989444\n",
            "[600]\tvalid's auc: 0.990093\n",
            "[700]\tvalid's auc: 0.990597\n",
            "[800]\tvalid's auc: 0.991016\n",
            "[900]\tvalid's auc: 0.991391\n",
            "[1000]\tvalid's auc: 0.991687\n",
            "Did not meet early stopping. Best iteration is:\n",
            "[1000]\tvalid's auc: 0.991687\n",
            "Training until validation scores don't improve for 30 rounds.\n",
            "[100]\tvalid's auc: 0.982116\n",
            "[200]\tvalid's auc: 0.985763\n",
            "[300]\tvalid's auc: 0.987453\n",
            "[400]\tvalid's auc: 0.988629\n",
            "[500]\tvalid's auc: 0.989456\n",
            "[600]\tvalid's auc: 0.99014\n",
            "[700]\tvalid's auc: 0.99067\n",
            "[800]\tvalid's auc: 0.991055\n",
            "[900]\tvalid's auc: 0.991449\n",
            "[1000]\tvalid's auc: 0.991776\n",
            "Did not meet early stopping. Best iteration is:\n",
            "[1000]\tvalid's auc: 0.991776\n",
            "Training until validation scores don't improve for 30 rounds.\n",
            "[100]\tvalid's auc: 0.982178\n",
            "[200]\tvalid's auc: 0.985684\n",
            "[300]\tvalid's auc: 0.987371\n",
            "[400]\tvalid's auc: 0.988438\n",
            "[500]\tvalid's auc: 0.989328\n",
            "[600]\tvalid's auc: 0.990014\n",
            "[700]\tvalid's auc: 0.990517\n",
            "[800]\tvalid's auc: 0.990987\n",
            "[900]\tvalid's auc: 0.991362\n",
            "[1000]\tvalid's auc: 0.991738\n",
            "Did not meet early stopping. Best iteration is:\n",
            "[1000]\tvalid's auc: 0.991738\n",
            "Training until validation scores don't improve for 30 rounds.\n",
            "[100]\tvalid's auc: 0.982031\n",
            "[200]\tvalid's auc: 0.985645\n",
            "[300]\tvalid's auc: 0.987402\n",
            "[400]\tvalid's auc: 0.988549\n",
            "[500]\tvalid's auc: 0.989447\n",
            "[600]\tvalid's auc: 0.99009\n",
            "[700]\tvalid's auc: 0.990586\n",
            "[800]\tvalid's auc: 0.991069\n",
            "[900]\tvalid's auc: 0.991444\n",
            "[1000]\tvalid's auc: 0.991768\n",
            "Did not meet early stopping. Best iteration is:\n",
            "[1000]\tvalid's auc: 0.991768\n",
            "Training until validation scores don't improve for 30 rounds.\n",
            "[100]\tvalid's auc: 0.981993\n",
            "[200]\tvalid's auc: 0.985616\n",
            "[300]\tvalid's auc: 0.987375\n",
            "[400]\tvalid's auc: 0.988558\n",
            "[500]\tvalid's auc: 0.989368\n",
            "[600]\tvalid's auc: 0.990019\n",
            "[700]\tvalid's auc: 0.990556\n",
            "[800]\tvalid's auc: 0.990963\n",
            "[900]\tvalid's auc: 0.991344\n",
            "[1000]\tvalid's auc: 0.991639\n",
            "Did not meet early stopping. Best iteration is:\n",
            "[1000]\tvalid's auc: 0.991639\n",
            "Training until validation scores don't improve for 30 rounds.\n",
            "[100]\tvalid's auc: 0.981772\n",
            "[200]\tvalid's auc: 0.98541\n",
            "[300]\tvalid's auc: 0.987228\n",
            "[400]\tvalid's auc: 0.988435\n",
            "[500]\tvalid's auc: 0.98933\n",
            "[600]\tvalid's auc: 0.989982\n",
            "[700]\tvalid's auc: 0.990518\n",
            "[800]\tvalid's auc: 0.990996\n",
            "[900]\tvalid's auc: 0.991362\n",
            "[1000]\tvalid's auc: 0.99167\n",
            "Did not meet early stopping. Best iteration is:\n",
            "[1000]\tvalid's auc: 0.99167\n",
            "Training until validation scores don't improve for 30 rounds.\n",
            "[100]\tvalid's auc: 0.981776\n",
            "[200]\tvalid's auc: 0.985612\n",
            "[300]\tvalid's auc: 0.987261\n",
            "[400]\tvalid's auc: 0.988502\n",
            "[500]\tvalid's auc: 0.989308\n",
            "[600]\tvalid's auc: 0.990038\n",
            "[700]\tvalid's auc: 0.990531\n",
            "[800]\tvalid's auc: 0.990944\n",
            "[900]\tvalid's auc: 0.991328\n",
            "[1000]\tvalid's auc: 0.991677\n",
            "Did not meet early stopping. Best iteration is:\n",
            "[1000]\tvalid's auc: 0.991677\n",
            "Training until validation scores don't improve for 30 rounds.\n",
            "[100]\tvalid's auc: 0.981586\n",
            "[200]\tvalid's auc: 0.985322\n",
            "[300]\tvalid's auc: 0.987137\n",
            "[400]\tvalid's auc: 0.988265\n",
            "[500]\tvalid's auc: 0.989108\n",
            "[600]\tvalid's auc: 0.989846\n",
            "[700]\tvalid's auc: 0.990373\n",
            "[800]\tvalid's auc: 0.990839\n",
            "[900]\tvalid's auc: 0.991239\n",
            "[1000]\tvalid's auc: 0.991564\n",
            "Did not meet early stopping. Best iteration is:\n",
            "[1000]\tvalid's auc: 0.991564\n",
            "Training until validation scores don't improve for 30 rounds.\n",
            "[100]\tvalid's auc: 0.981817\n",
            "[200]\tvalid's auc: 0.98552\n",
            "[300]\tvalid's auc: 0.987281\n",
            "[400]\tvalid's auc: 0.988403\n",
            "[500]\tvalid's auc: 0.989265\n",
            "[600]\tvalid's auc: 0.989933\n",
            "[700]\tvalid's auc: 0.990509\n",
            "[800]\tvalid's auc: 0.990961\n",
            "[900]\tvalid's auc: 0.991348\n",
            "[1000]\tvalid's auc: 0.991695\n",
            "Did not meet early stopping. Best iteration is:\n",
            "[1000]\tvalid's auc: 0.991695\n",
            "Training until validation scores don't improve for 30 rounds.\n",
            "[100]\tvalid's auc: 0.981716\n",
            "[200]\tvalid's auc: 0.985419\n",
            "[300]\tvalid's auc: 0.987166\n",
            "[400]\tvalid's auc: 0.988387\n",
            "[500]\tvalid's auc: 0.989258\n",
            "[600]\tvalid's auc: 0.989888\n",
            "[700]\tvalid's auc: 0.990415\n",
            "[800]\tvalid's auc: 0.990916\n",
            "[900]\tvalid's auc: 0.99133\n",
            "[1000]\tvalid's auc: 0.991694\n",
            "Did not meet early stopping. Best iteration is:\n",
            "[1000]\tvalid's auc: 0.991694\n",
            "Training until validation scores don't improve for 30 rounds.\n",
            "[100]\tvalid's auc: 0.980797\n",
            "[200]\tvalid's auc: 0.984954\n",
            "[300]\tvalid's auc: 0.987021\n",
            "[400]\tvalid's auc: 0.988204\n",
            "[500]\tvalid's auc: 0.989039\n",
            "[600]\tvalid's auc: 0.989732\n",
            "[700]\tvalid's auc: 0.990284\n",
            "[800]\tvalid's auc: 0.990781\n",
            "[900]\tvalid's auc: 0.991194\n",
            "[1000]\tvalid's auc: 0.991536\n",
            "Did not meet early stopping. Best iteration is:\n",
            "[1000]\tvalid's auc: 0.991536\n",
            "Training until validation scores don't improve for 30 rounds.\n",
            "[100]\tvalid's auc: 0.980927\n",
            "[200]\tvalid's auc: 0.985218\n",
            "[300]\tvalid's auc: 0.986984\n",
            "[400]\tvalid's auc: 0.988304\n",
            "[500]\tvalid's auc: 0.989133\n",
            "[600]\tvalid's auc: 0.989771\n",
            "[700]\tvalid's auc: 0.990284\n",
            "[800]\tvalid's auc: 0.990717\n",
            "[900]\tvalid's auc: 0.991109\n",
            "[1000]\tvalid's auc: 0.99143\n",
            "Did not meet early stopping. Best iteration is:\n",
            "[1000]\tvalid's auc: 0.99143\n",
            "Training until validation scores don't improve for 30 rounds.\n",
            "[100]\tvalid's auc: 0.980776\n",
            "[200]\tvalid's auc: 0.985074\n",
            "[300]\tvalid's auc: 0.986912\n",
            "[400]\tvalid's auc: 0.98808\n",
            "[500]\tvalid's auc: 0.989003\n",
            "[600]\tvalid's auc: 0.989673\n",
            "[700]\tvalid's auc: 0.990253\n",
            "[800]\tvalid's auc: 0.99071\n",
            "[900]\tvalid's auc: 0.991108\n",
            "[1000]\tvalid's auc: 0.99143\n",
            "Did not meet early stopping. Best iteration is:\n",
            "[1000]\tvalid's auc: 0.99143\n",
            "Training until validation scores don't improve for 30 rounds.\n",
            "[100]\tvalid's auc: 0.980458\n",
            "[200]\tvalid's auc: 0.984926\n",
            "[300]\tvalid's auc: 0.986741\n",
            "[400]\tvalid's auc: 0.987938\n",
            "[500]\tvalid's auc: 0.988798\n",
            "[600]\tvalid's auc: 0.98952\n",
            "[700]\tvalid's auc: 0.990152\n",
            "[800]\tvalid's auc: 0.990588\n",
            "[900]\tvalid's auc: 0.990991\n",
            "[1000]\tvalid's auc: 0.991337\n",
            "Did not meet early stopping. Best iteration is:\n",
            "[1000]\tvalid's auc: 0.991337\n",
            "Training until validation scores don't improve for 30 rounds.\n",
            "[100]\tvalid's auc: 0.980356\n",
            "[200]\tvalid's auc: 0.985107\n",
            "[300]\tvalid's auc: 0.987034\n",
            "[400]\tvalid's auc: 0.988087\n",
            "[500]\tvalid's auc: 0.98899\n",
            "[600]\tvalid's auc: 0.989604\n",
            "[700]\tvalid's auc: 0.990181\n",
            "[800]\tvalid's auc: 0.990615\n",
            "[900]\tvalid's auc: 0.991033\n",
            "[1000]\tvalid's auc: 0.991361\n",
            "Did not meet early stopping. Best iteration is:\n",
            "[1000]\tvalid's auc: 0.991361\n",
            "Training until validation scores don't improve for 30 rounds.\n",
            "[100]\tvalid's auc: 0.979623\n",
            "[200]\tvalid's auc: 0.984525\n",
            "[300]\tvalid's auc: 0.986558\n",
            "[400]\tvalid's auc: 0.987777\n",
            "[500]\tvalid's auc: 0.988672\n",
            "[600]\tvalid's auc: 0.989379\n",
            "[700]\tvalid's auc: 0.98993\n",
            "[800]\tvalid's auc: 0.990399\n",
            "[900]\tvalid's auc: 0.990812\n",
            "[1000]\tvalid's auc: 0.991201\n",
            "Did not meet early stopping. Best iteration is:\n",
            "[1000]\tvalid's auc: 0.991201\n",
            "Training until validation scores don't improve for 30 rounds.\n",
            "[100]\tvalid's auc: 0.979348\n",
            "[200]\tvalid's auc: 0.984493\n",
            "[300]\tvalid's auc: 0.986423\n",
            "[400]\tvalid's auc: 0.987546\n",
            "[500]\tvalid's auc: 0.988555\n",
            "[600]\tvalid's auc: 0.989282\n",
            "[700]\tvalid's auc: 0.989873\n",
            "[800]\tvalid's auc: 0.990409\n",
            "[900]\tvalid's auc: 0.990799\n",
            "[1000]\tvalid's auc: 0.991154\n",
            "Did not meet early stopping. Best iteration is:\n",
            "[1000]\tvalid's auc: 0.991154\n",
            "Training until validation scores don't improve for 30 rounds.\n",
            "[100]\tvalid's auc: 0.979908\n",
            "[200]\tvalid's auc: 0.984802\n",
            "[300]\tvalid's auc: 0.986741\n",
            "[400]\tvalid's auc: 0.987895\n",
            "[500]\tvalid's auc: 0.988754\n",
            "[600]\tvalid's auc: 0.989456\n",
            "[700]\tvalid's auc: 0.990056\n",
            "[800]\tvalid's auc: 0.990488\n",
            "[900]\tvalid's auc: 0.990926\n",
            "[1000]\tvalid's auc: 0.991252\n",
            "Did not meet early stopping. Best iteration is:\n",
            "[1000]\tvalid's auc: 0.991252\n",
            "Training until validation scores don't improve for 30 rounds.\n",
            "[100]\tvalid's auc: 0.979729\n",
            "[200]\tvalid's auc: 0.984544\n",
            "[300]\tvalid's auc: 0.986482\n",
            "[400]\tvalid's auc: 0.987815\n",
            "[500]\tvalid's auc: 0.988693\n",
            "[600]\tvalid's auc: 0.989356\n",
            "[700]\tvalid's auc: 0.989934\n",
            "[800]\tvalid's auc: 0.990441\n",
            "[900]\tvalid's auc: 0.990827\n",
            "[1000]\tvalid's auc: 0.991247\n",
            "Did not meet early stopping. Best iteration is:\n",
            "[1000]\tvalid's auc: 0.991247\n",
            "Training until validation scores don't improve for 30 rounds.\n",
            "[100]\tvalid's auc: 0.97941\n",
            "[200]\tvalid's auc: 0.984388\n",
            "[300]\tvalid's auc: 0.986412\n",
            "[400]\tvalid's auc: 0.987635\n",
            "[500]\tvalid's auc: 0.988684\n",
            "[600]\tvalid's auc: 0.989313\n",
            "[700]\tvalid's auc: 0.989911\n",
            "[800]\tvalid's auc: 0.990345\n",
            "[900]\tvalid's auc: 0.990719\n",
            "[1000]\tvalid's auc: 0.991123\n",
            "Did not meet early stopping. Best iteration is:\n",
            "[1000]\tvalid's auc: 0.991123\n",
            "Training until validation scores don't improve for 30 rounds.\n",
            "[100]\tvalid's auc: 0.982191\n",
            "[200]\tvalid's auc: 0.985844\n",
            "[300]\tvalid's auc: 0.987614\n",
            "[400]\tvalid's auc: 0.988761\n",
            "[500]\tvalid's auc: 0.989642\n",
            "[600]\tvalid's auc: 0.990301\n",
            "[700]\tvalid's auc: 0.990794\n",
            "[800]\tvalid's auc: 0.991184\n",
            "[900]\tvalid's auc: 0.991602\n",
            "[1000]\tvalid's auc: 0.991964\n",
            "Did not meet early stopping. Best iteration is:\n",
            "[1000]\tvalid's auc: 0.991964\n"
          ]
        },
        {
          "output_type": "execute_result",
          "data": {
            "text/plain": [
              "GridSearchCV(cv=5,\n",
              "             estimator=LGBMClassifier(colsample_bytree=0.9234, metric='None',\n",
              "                                      min_child_samples=399,\n",
              "                                      min_child_weight=0.1, n_estimators=1000,\n",
              "                                      n_jobs=4, num_leaves=13, random_state=314,\n",
              "                                      reg_alpha=2, reg_lambda=5,\n",
              "                                      subsample=0.855),\n",
              "             param_grid={'scale_pos_weight': [1, 2, 6, 12]}, scoring='roc_auc',\n",
              "             verbose=True)"
            ]
          },
          "metadata": {},
          "execution_count": 99
        },
        {
          "output_type": "stream",
          "name": "stdout",
          "text": [
            "Best score reached: 0.9921397475269049 with params: {'scale_pos_weight': 1} \n"
          ]
        }
      ]
    },
    {
      "cell_type": "code",
      "source": [
        "clf_final = lgb.LGBMClassifier(**clf.get_params())\n",
        "#set optimal parameters\n",
        "clf_final.set_params(**opt_parameters)\n",
        "\n",
        "#Train the final model with learning rate decay\n",
        "clf_final.fit(X_train, y_train, **fit_params, callbacks=[lgb.reset_parameter(learning_rate=learning_rate_010_decay_power_0995)])"
      ],
      "metadata": {
        "colab": {
          "base_uri": "https://localhost:8080/"
        },
        "id": "SPeIh5oi5W01",
        "outputId": "eda48f54-c888-406b-f145-b63a6722a198"
      },
      "execution_count": null,
      "outputs": [
        {
          "output_type": "execute_result",
          "data": {
            "text/plain": [
              "LGBMClassifier(colsample_bytree=0.9234, metric='None', min_child_samples=399,\n",
              "               min_child_weight=0.1, n_estimators=1000, n_jobs=4, num_leaves=13,\n",
              "               random_state=314, reg_alpha=2, reg_lambda=5, subsample=0.855)"
            ]
          },
          "metadata": {},
          "execution_count": 101
        },
        {
          "output_type": "stream",
          "name": "stdout",
          "text": [
            "Training until validation scores don't improve for 30 rounds.\n",
            "[100]\tvalid's auc: 0.980707\n",
            "[200]\tvalid's auc: 0.983756\n",
            "[300]\tvalid's auc: 0.984669\n",
            "[400]\tvalid's auc: 0.985177\n",
            "[500]\tvalid's auc: 0.985458\n",
            "[600]\tvalid's auc: 0.985633\n",
            "[700]\tvalid's auc: 0.985722\n",
            "[800]\tvalid's auc: 0.985776\n",
            "[900]\tvalid's auc: 0.98581\n",
            "[1000]\tvalid's auc: 0.985832\n",
            "Did not meet early stopping. Best iteration is:\n",
            "[1000]\tvalid's auc: 0.985832\n"
          ]
        },
        {
          "output_type": "execute_result",
          "data": {
            "text/plain": [
              "LGBMClassifier(colsample_bytree=0.9234, metric='None', min_child_samples=399,\n",
              "               min_child_weight=0.1, n_estimators=1000, n_jobs=4, num_leaves=13,\n",
              "               random_state=314, reg_alpha=2, reg_lambda=5, subsample=0.855)"
            ]
          },
          "metadata": {},
          "execution_count": 101
        }
      ]
    },
    {
      "cell_type": "code",
      "source": [
        "predictions = clf_final.predict(test_df)\n",
        "\n",
        "# # Create a submission file\n",
        "sub_file = samplesubmission.copy()\n",
        "sub_file.Offset_fault = predictions\n",
        "\n",
        "# Check the distribution of your predictions\n",
        "plt.figure(figsize=(8, 5))\n",
        "sns.countplot(sub_file.Offset_fault)\n",
        "plt.title('Predictions Data Distribution');"
      ],
      "metadata": {
        "colab": {
          "base_uri": "https://localhost:8080/",
          "height": 351
        },
        "id": "ivNFF3Xm5W3V",
        "outputId": "3732be47-1328-4e74-acb6-a884033aa89b"
      },
      "execution_count": null,
      "outputs": [
        {
          "output_type": "display_data",
          "data": {
            "text/plain": [
              "<Figure size 576x360 with 1 Axes>"
            ],
            "image/png": "[encoded data removed]"
          },
          "metadata": {
            "needs_background": "light"
          }
        }
      ]
    },
    {
      "cell_type": "code",
      "source": [
        "sub_file.to_csv('submit.csv', index = False)"
      ],
      "metadata": {
        "id": "CaonMxZx5W5t"
      },
      "execution_count": null,
      "outputs": []
    },
    {
      "cell_type": "code",
      "source": [
        ""
      ],
      "metadata": {
        "id": "snqMD1AyJX98"
      },
      "execution_count": null,
      "outputs": []
    }
  ]
}